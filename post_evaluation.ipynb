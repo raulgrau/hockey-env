{
 "cells": [
  {
   "cell_type": "markdown",
   "metadata": {},
   "source": [
    "## Plotting after Training"
   ]
  },
  {
   "cell_type": "markdown",
   "metadata": {},
   "source": [
    "Using checkpoints and a separate evaluation script. "
   ]
  },
  {
   "cell_type": "code",
   "execution_count": null,
   "metadata": {},
   "outputs": [],
   "source": [
    "import numpy as np\n",
    "import matplotlib.pyplot as plt\n",
    "from stable_baselines3 import TD3\n",
    "\n",
    "def evaluate_model(model_path, eval_env, n_episodes=20):\n",
    "    model = TD3.load(model_path, env=eval_env)\n",
    "    episode_rewards = []\n",
    "    \n",
    "    for _ in range(n_episodes):\n",
    "        obs, info = eval_env.reset()\n",
    "        done = False\n",
    "        total_reward = 0.0\n",
    "        \n",
    "        while not done:\n",
    "            action, _states = model.predict(obs, deterministic=True)\n",
    "            obs, reward, done, truncated, info = eval_env.step(action)\n",
    "            done = done or truncated\n",
    "            total_reward += reward\n",
    "        episode_rewards.append(total_reward)\n",
    "    \n",
    "    avg_reward = np.mean(episode_rewards)\n",
    "    return avg_reward\n",
    "\n",
    "# Suppose you have a list of checkpoints\n",
    "checkpoints = [\n",
    "    \"./checkpoints/td3_hockey_100000_steps.zip\",\n",
    "    \"./checkpoints/td3_hockey_200000_steps.zip\",\n",
    "    \"./checkpoints/td3_hockey_300000_steps.zip\",\n",
    "    # ...\n",
    "]\n",
    "\n",
    "eval_env = ...  # re-create the environment\n",
    "timesteps = []\n",
    "avg_rewards = []\n",
    "\n",
    "for ckpt in checkpoints:\n",
    "    # extract number of steps from filename or store them in a separate list\n",
    "    steps = int(ckpt.split(\"_\")[-2].replace(\"steps.zip\",\"\"))\n",
    "    timesteps.append(steps)\n",
    "\n",
    "    mean_return = evaluate_model(ckpt, eval_env, n_episodes=20)\n",
    "    avg_rewards.append(mean_return)\n",
    "\n",
    "# Plot\n",
    "plt.figure()\n",
    "plt.plot(timesteps, avg_rewards, marker='o')\n",
    "plt.xlabel(\"Training Steps\")\n",
    "plt.ylabel(\"Average Episode Reward\")\n",
    "plt.title(\"TD3 Performance Over Time\")\n",
    "plt.show()\n"
   ]
  }
 ],
 "metadata": {
  "kernelspec": {
   "display_name": ".venv",
   "language": "python",
   "name": "python3"
  },
  "language_info": {
   "name": "python",
   "version": "3.13.1"
  }
 },
 "nbformat": 4,
 "nbformat_minor": 2
}
